{
  "cells": [
    {
      "cell_type": "markdown",
      "metadata": {
        "id": "t2d2Jc1GIPau"
      },
      "source": [
        "Definimos la función para la simulación"
      ]
    },
    {
      "cell_type": "code",
      "execution_count": 17,
      "metadata": {
        "id": "0it9H_hXIPau"
      },
      "outputs": [],
      "source": [
        "def simulate_gbm(s_0, mu, sigma, n_sims, T, N, random_seed=242):\n",
        "\n",
        "    np.random.seed(random_seed)  # fijamos la semilla\n",
        "    \n",
        "    dt = T/N                     # incremento temporal\n",
        "    dW = np.random.normal(scale = np.sqrt(dt), size=(n_sims, N))\n",
        "    W = np.cumsum(dW, axis=1)\n",
        "    \n",
        "    time_step = np.linspace(dt, T, N)\n",
        "    time_steps = np.broadcast_to(time_step, (n_sims, N))\n",
        "    \n",
        "    S_t = s_0 * np.exp((mu - 0.5 * sigma**2) * time_steps + sigma * W)   # Matriz (n_sim, T+1)\n",
        "    S_t = np.insert(S_t, 0, s_0, axis=1)                 #Los reglones son trayectorias , columnas son tiempo\n",
        "    \n",
        "    return S_t"
      ]
    },
    {
      "cell_type": "markdown",
      "metadata": {
        "id": "PjcZiZypIPbL"
      },
      "source": [
        "# Opciones Europeas"
      ]
    },
    {
      "cell_type": "markdown",
      "metadata": {
        "id": "GsOG0iZuIPbQ"
      },
      "source": [
        "Una opción europea es aquella opción financiera donde el comprador de la misma podrá ejercerla solo cuando llegue el vencimiento del contrato."
      ]
    },
    {
      "cell_type": "markdown",
      "metadata": {
        "id": "r-BoMAGwIPbR"
      },
      "source": [
        "Para este caso existen fórmulas analiticas para el precio de las opciones. Nosotros usaremos estas fórmulas para la simulación (revisar):"
      ]
    },
    {
      "cell_type": "markdown",
      "metadata": {
        "id": "fKXaFYmYIPbR"
      },
      "source": [
        "Call:\n",
        "\n",
        "$$C(S_t,t)=N(d_1)S_t-N(d_2)Ke^{-r(T-t)}$$"
      ]
    },
    {
      "cell_type": "markdown",
      "metadata": {
        "id": "Lw4zKKJZIPbS"
      },
      "source": [
        "Put:\n",
        "\n",
        "$$P(S_t,t)=-N(-d_2)Ke^{-r(T-t)} - N(-d_1)S_t$$"
      ]
    },
    {
      "cell_type": "markdown",
      "metadata": {
        "id": "5MUshTd_IPbT"
      },
      "source": [
        "donde\n",
        "\n",
        "$$d_1=\\frac{1}{\\sigma \\sqrt{T-t}}[ln(\\frac{S_t}{K})+(r+\\frac{\\sigma^2}{2})(T-t)]$$\n",
        "\n",
        "\n",
        "$$d_2=d_1-\\sigma \\sqrt{T-t}$$"
      ]
    },
    {
      "cell_type": "markdown",
      "metadata": {
        "id": "cqu883CWIPbY"
      },
      "source": [
        "Notación:\n",
        "\n",
        "* S_0: precio inicial de la acción\n",
        "* K: precio Strike\n",
        "* r: tasa libre de riesgo anual\n",
        "* $\\sigma$: volatilidad\n",
        "* T: Tiempo\n",
        "* N: número de incrementos de las simulaciones"
      ]
    },
    {
      "cell_type": "markdown",
      "metadata": {
        "id": "nGPCRulyIPbZ"
      },
      "source": [
        "El precio de la opción es"
      ]
    },
    {
      "cell_type": "markdown",
      "metadata": {
        "id": "YzLdDMLuIPba"
      },
      "source": [
        "Call:\n",
        "    \n",
        "$$max(S_T-K, 0)$$"
      ]
    },
    {
      "cell_type": "markdown",
      "metadata": {
        "id": "qAmWoIGAIPbb"
      },
      "source": [
        "Put:\n",
        "\n",
        "$$max(K-S_T, 0)$$"
      ]
    },
    {
      "cell_type": "code",
      "execution_count": 18,
      "metadata": {
        "id": "Z1Ln1A9gIPbc"
      },
      "outputs": [],
      "source": [
        "import numpy as np\n",
        "from scipy.stats import norm"
      ]
    },
    {
      "cell_type": "code",
      "execution_count": 19,
      "metadata": {
        "id": "H00oOKGlIPbd"
      },
      "outputs": [],
      "source": [
        "S_0 = 100\n",
        "K = 100\n",
        "r = 0.05\n",
        "sigma = 0.50\n",
        "T = 1 # 1 año\n",
        "N = 252 # 252 días en un año\n",
        "dt = T / N # paso de tiempo\n",
        "N_SIMS = 1000000 # numero de simulaciones \n",
        "discount_factor = np.exp(-r * T)"
      ]
    },
    {
      "cell_type": "code",
      "execution_count": 20,
      "metadata": {
        "id": "FHMec8O2IPbf"
      },
      "outputs": [],
      "source": [
        "def black_scholes_analytical(S_0, K, T, r, sigma, type='call'):\n",
        "    \n",
        "    d1 = (np.log(S_0 / K) + (r + 0.5 * sigma ** 2) * T) / (sigma * np.sqrt(T))\n",
        "    d2 = (np.log(S_0 / K) + (r - 0.5 * sigma ** 2) * T) / (sigma * np.sqrt(T))\n",
        "    \n",
        "    if type == 'call':\n",
        "        val = (S_0 * norm.cdf(d1, 0, 1) - K * np.exp(-r * T) * norm.cdf(d2, 0, 1))\n",
        "    elif type == 'put':\n",
        "        val = (K * np.exp(-r * T) * norm.cdf(-d2, 0, 1) - S_0 * norm.cdf(-d1, 0, 1))\n",
        "    else:\n",
        "        raise ValueError('Wrong input for type!')\n",
        "        \n",
        "    return val"
      ]
    },
    {
      "cell_type": "code",
      "execution_count": 21,
      "metadata": {
        "id": "e2dJ3ZVMIPbf",
        "outputId": "55dbc7ba-8257-42dd-b39b-f06d53fbf192",
        "colab": {
          "base_uri": "https://localhost:8080/"
        }
      },
      "outputs": [
        {
          "output_type": "execute_result",
          "data": {
            "text/plain": [
              "21.79260421286685"
            ]
          },
          "metadata": {},
          "execution_count": 21
        }
      ],
      "source": [
        "black_scholes_analytical(S_0=S_0, K=K, T=T, r=r, sigma=sigma, type='call')"
      ]
    },
    {
      "cell_type": "markdown",
      "metadata": {
        "id": "9o9nt3SpIPbh"
      },
      "source": [
        "Simulamos por MC el precio:"
      ]
    },
    {
      "cell_type": "code",
      "execution_count": 22,
      "metadata": {
        "id": "FEHKM17dIPbi"
      },
      "outputs": [],
      "source": [
        "gbm_sims = simulate_gbm(s_0=S_0, mu=r, sigma=sigma, n_sims=N_SIMS, T=T, N=N)"
      ]
    },
    {
      "cell_type": "markdown",
      "metadata": {
        "id": "ndOzwA2TIPbj"
      },
      "source": [
        "Se usa el factor de descuento para calcular el valor presente del payoff"
      ]
    },
    {
      "cell_type": "code",
      "execution_count": 23,
      "metadata": {
        "id": "rdL6iwTKIPbj"
      },
      "outputs": [],
      "source": [
        "premium = discount_factor * np.mean(np.maximum(0, gbm_sims[:, -1] - K))"
      ]
    },
    {
      "cell_type": "code",
      "execution_count": 24,
      "metadata": {
        "id": "RmJKlTdHIPbk",
        "outputId": "3fc09422-d5ef-4ccb-88d8-d08181462a90",
        "colab": {
          "base_uri": "https://localhost:8080/"
        }
      },
      "outputs": [
        {
          "output_type": "execute_result",
          "data": {
            "text/plain": [
              "21.749587324505637"
            ]
          },
          "metadata": {},
          "execution_count": 24
        }
      ],
      "source": [
        "premium"
      ]
    },
    {
      "cell_type": "markdown",
      "metadata": {
        "id": "_5WkfqQAIPbl"
      },
      "source": [
        "Comentar: revisar librería Quantlib"
      ]
    },
    {
      "cell_type": "markdown",
      "metadata": {
        "id": "mxorsXjJIPbo"
      },
      "source": [
        "## Opciones americanas"
      ]
    },
    {
      "cell_type": "markdown",
      "metadata": {
        "id": "HX6EmvRDIPbq"
      },
      "source": [
        "Las opciones americanas se caracterizan porque se pueden ejercer en cualquier momento del periodo $[0, T]$.\n",
        "\n",
        "Al utilizar el método de Monte Carlo para opciones europeas, el periodo de tiempo se discretizó y se calculó el valor de los precios para el final de cada subperiodo. \n",
        "\n",
        "Se puede valuar una opción americana calculando el valor para subperiodos y eligiendo entre ellos el que da el valor óptimo. \n",
        "\n",
        "Al proceder así, se dice que la opción americana (que puede ejercerse en cualquier momento) se ha aproximado mediante una Opción Bermuda (que puede ejercerse solo en ciertos valores del tiempo)."
      ]
    },
    {
      "cell_type": "code",
      "execution_count": 25,
      "metadata": {
        "id": "gqavT0ZwIPbr"
      },
      "outputs": [],
      "source": [
        "import numpy as np\n",
        "from scipy.stats import norm"
      ]
    },
    {
      "cell_type": "markdown",
      "metadata": {
        "id": "zjEfF17qIPbs"
      },
      "source": [
        "Usamos la simulación MC que ya hemos utilizado."
      ]
    },
    {
      "cell_type": "code",
      "execution_count": 26,
      "metadata": {
        "id": "oTvjubx2IPbs"
      },
      "outputs": [],
      "source": [
        "def simulate_gbm(s_0, mu, sigma, n_sims, T, N, random_seed=242):\n",
        "\n",
        "    np.random.seed(random_seed)  # fijamos la semilla\n",
        "    \n",
        "    dt = T/N                     # incremento temporal\n",
        "    dW = np.random.normal(scale = np.sqrt(dt), size=(n_sims, N))\n",
        "    W = np.cumsum(dW, axis=1)\n",
        "    \n",
        "    time_step = np.linspace(dt, T, N)\n",
        "    time_steps = np.broadcast_to(time_step, (n_sims, N))\n",
        "    \n",
        "    S_t = s_0 * np.exp((mu - 0.5 * sigma**2) * time_steps + sigma * W)   # Matriz (n_sim, T+1)\n",
        "    S_t = np.insert(S_t, 0, s_0, axis=1)                 #Los reglones son trayectorias , columnas son tiempo\n",
        "    \n",
        "    return S_t"
      ]
    },
    {
      "cell_type": "markdown",
      "metadata": {
        "id": "3xB2WlhkIPby"
      },
      "source": [
        "Y podemos comparar con el cáluclo analítico"
      ]
    },
    {
      "cell_type": "code",
      "execution_count": 27,
      "metadata": {
        "id": "Egtkaj0hIPbz"
      },
      "outputs": [],
      "source": [
        "def black_scholes_analytical(S_0, K, T, r, sigma, type='call'):\n",
        "    \n",
        "    d1 = (np.log(S_0 / K) + (r + 0.5 * sigma ** 2) * T) / (sigma * np.sqrt(T))\n",
        "    d2 = (np.log(S_0 / K) + (r - 0.5 * sigma ** 2) * T) / (sigma * np.sqrt(T))\n",
        "    \n",
        "    if type == 'call':\n",
        "        val = (S_0 * norm.cdf(d1, 0, 1) - K * np.exp(-r * T) * norm.cdf(d2, 0, 1))\n",
        "    elif type == 'put':\n",
        "        val = (K * np.exp(-r * T) * norm.cdf(-d2, 0, 1) - S_0 * norm.cdf(-d1, 0, 1))\n",
        "    else:\n",
        "        raise ValueError('Wrong input for type!')\n",
        "        \n",
        "    return val"
      ]
    },
    {
      "cell_type": "markdown",
      "metadata": {
        "id": "ln44YsL3IPb0"
      },
      "source": [
        "[Longstaff y Schwartz (2001)](https://people.math.ethz.ch/~hjfurrer/teaching/LongstaffSchwartzAmericanOptionsLeastSquareMonteCarlo.pdf) presentan una manera de aproximar la esperanza condicionada en fragmentos del tiempo total, realizando en cada período una regresión por mínimos cuadrados sobre un conjunto finito de funciones de las variables de estado relevantes. La regresión es posible ya que se cuenta con la información de varios caminos al mismo tiempo (información transversal), por lo que la esperanza se estima realizando una regresión del valor del flujo de fondos que se obtiene por continuar descontado sobre los valores de las variables relevantes para los diferentes caminos de simulación. El valor estimado de la regresión es eficiente e insesgado de la esperanza condicionada y permite estimar con precisión la regla de parada óptima para la opción."
      ]
    },
    {
      "cell_type": "code",
      "execution_count": 42,
      "metadata": {
        "id": "BAcyVgL6IPb1"
      },
      "outputs": [],
      "source": [
        "def lsmc_american_option(S_0, K, T, N, r, sigma, n_sims, option_type, poly_degree, random_seed=42):\n",
        "    dt = T / N\n",
        "    discount_factor = np.exp(-r * dt)\n",
        "\n",
        "    gbm_simulations = simulate_gbm(s_0=S_0, mu=r, sigma=sigma, \n",
        "                                   n_sims=n_sims, T=T, N=N,\n",
        "                                   random_seed=random_seed)\n",
        "\n",
        "    if option_type == 'call':\n",
        "        payoff_matrix = np.maximum(\n",
        "            gbm_simulations - K, np.zeros_like(gbm_simulations))\n",
        "    elif option_type == 'put':\n",
        "        payoff_matrix = np.maximum(\n",
        "            K - gbm_simulations, np.zeros_like(gbm_simulations))\n",
        "\n",
        "    value_matrix = np.zeros_like(payoff_matrix)\n",
        "    value_matrix[:, -1] = payoff_matrix[:, -1]\n",
        "\n",
        "    for t in range(N - 1, 0, -1):\n",
        "        regression = np.polyfit(\n",
        "            gbm_simulations[:, t], value_matrix[:, t + 1] * discount_factor, poly_degree)\n",
        "        continuation_value = np.polyval(regression, gbm_simulations[:, t])\n",
        "        value_matrix[:, t] = np.where(payoff_matrix[:, t] > continuation_value,\n",
        "                                      payoff_matrix[:, t],\n",
        "                                      value_matrix[:, t + 1] * discount_factor)\n",
        "\n",
        "    option_premium = np.mean(value_matrix[:, 1] * discount_factor)\n",
        "    return option_premium"
      ]
    },
    {
      "cell_type": "code",
      "execution_count": 43,
      "metadata": {
        "id": "4sRL3yZQIPb3"
      },
      "outputs": [],
      "source": [
        "S_0 = 36\n",
        "K = 40\n",
        "r = 0.06\n",
        "sigma = 0.2\n",
        "T = 1 # 1 year\n",
        "N = 50 \n",
        "dt = T / N \n",
        "n_sims = 10 ** 5 \n",
        "discount_factor = np.exp(-r * dt)\n",
        "option_type = 'put'\n",
        "poly_degree = 5 "
      ]
    },
    {
      "cell_type": "code",
      "execution_count": 44,
      "metadata": {
        "id": "znW6SCoaIPb4"
      },
      "outputs": [],
      "source": [
        "prima_opcion=lsmc_american_option(S_0, K, T, N, r, sigma, n_sims, option_type, poly_degree)"
      ]
    },
    {
      "cell_type": "code",
      "execution_count": 45,
      "metadata": {
        "id": "tDFk_FAOIPb4",
        "outputId": "827786c5-312d-4fe0-ed7e-9464cbf95a58",
        "colab": {
          "base_uri": "https://localhost:8080/",
          "height": 172
        }
      },
      "outputs": [
        {
          "output_type": "error",
          "ename": "NameError",
          "evalue": "ignored",
          "traceback": [
            "\u001b[0;31m---------------------------------------------------------------------------\u001b[0m",
            "\u001b[0;31mNameError\u001b[0m                                 Traceback (most recent call last)",
            "\u001b[0;32m<ipython-input-45-441507181e91>\u001b[0m in \u001b[0;36m<module>\u001b[0;34m()\u001b[0m\n\u001b[0;32m----> 1\u001b[0;31m \u001b[0mprint\u001b[0m\u001b[0;34m(\u001b[0m\u001b[0;34mf'La prima de la opcion americana {option_type} es {option_premium:.3f}'\u001b[0m\u001b[0;34m)\u001b[0m\u001b[0;34m\u001b[0m\u001b[0;34m\u001b[0m\u001b[0m\n\u001b[0m",
            "\u001b[0;31mNameError\u001b[0m: name 'option_premium' is not defined"
          ]
        }
      ],
      "source": [
        "print(f'La prima de la opcion americana {option_type} es {option_premium:.3f}')"
      ]
    },
    {
      "cell_type": "code",
      "execution_count": 46,
      "metadata": {
        "id": "Or27-78HIPb5",
        "outputId": "dddaa1ac-d36c-492f-b514-98324a76864f",
        "colab": {
          "base_uri": "https://localhost:8080/"
        }
      },
      "outputs": [
        {
          "output_type": "execute_result",
          "data": {
            "text/plain": [
              "3.84430779159684"
            ]
          },
          "metadata": {},
          "execution_count": 46
        }
      ],
      "source": [
        "black_scholes_analytical(S_0=S_0, K=K, T=T, r=r, sigma=sigma, \n",
        "                         type='put')"
      ]
    },
    {
      "cell_type": "code",
      "execution_count": 48,
      "metadata": {
        "id": "0lrecUkDIPb6",
        "outputId": "3e399469-bd47-4014-e333-a98b1930b6ca",
        "colab": {
          "base_uri": "https://localhost:8080/",
          "height": 227
        }
      },
      "outputs": [
        {
          "output_type": "error",
          "ename": "NameError",
          "evalue": "ignored",
          "traceback": [
            "\u001b[0;31m---------------------------------------------------------------------------\u001b[0m",
            "\u001b[0;31mNameError\u001b[0m                                 Traceback (most recent call last)",
            "\u001b[0;32m<ipython-input-48-848d87228536>\u001b[0m in \u001b[0;36m<module>\u001b[0;34m()\u001b[0m\n\u001b[1;32m      4\u001b[0m                                            \u001b[0msigma\u001b[0m\u001b[0;34m=\u001b[0m\u001b[0msigma\u001b[0m\u001b[0;34m,\u001b[0m \u001b[0mn_sims\u001b[0m\u001b[0;34m=\u001b[0m\u001b[0mN_SIMS\u001b[0m\u001b[0;34m,\u001b[0m\u001b[0;34m\u001b[0m\u001b[0;34m\u001b[0m\u001b[0m\n\u001b[1;32m      5\u001b[0m                                            \u001b[0moption_type\u001b[0m\u001b[0;34m=\u001b[0m\u001b[0;34m'call'\u001b[0m\u001b[0;34m,\u001b[0m\u001b[0;34m\u001b[0m\u001b[0;34m\u001b[0m\u001b[0m\n\u001b[0;32m----> 6\u001b[0;31m                                            poly_degree= POLY_DEGREE)\n\u001b[0m\u001b[1;32m      7\u001b[0m \u001b[0mprint\u001b[0m\u001b[0;34m(\u001b[0m\u001b[0;34mf\"La prima de la call europea es {european_call_price:.3f}, y la de la call americana (usando {N_SIMS} simulaciones) es {american_call_price:.3f}\"\u001b[0m\u001b[0;34m)\u001b[0m\u001b[0;34m\u001b[0m\u001b[0;34m\u001b[0m\u001b[0m\n",
            "\u001b[0;31mNameError\u001b[0m: name 'POLY_DEGREE' is not defined"
          ]
        }
      ],
      "source": [
        "european_call_price = black_scholes_analytical(S_0=S_0, K=K, T=T, \n",
        "                                               r=r, sigma=sigma)\n",
        "american_call_price = lsmc_american_option(S_0=S_0, K=K, T=T, N=N, r=r, \n",
        "                                           sigma=sigma, n_sims=N_SIMS, \n",
        "                                           option_type='call', \n",
        "                                           poly_degree= POLY_DEGREE)\n",
        "print(f\"La prima de la call europea es {european_call_price:.3f}, y la de la call americana (usando {N_SIMS} simulaciones) es {american_call_price:.3f}\")"
      ]
    },
    {
      "cell_type": "code",
      "execution_count": null,
      "metadata": {
        "id": "voUXnS_aIPb7"
      },
      "outputs": [],
      "source": [
        ""
      ]
    }
  ],
  "metadata": {
    "kernelspec": {
      "display_name": "Python 3",
      "language": "python",
      "name": "python3"
    },
    "language_info": {
      "codemirror_mode": {
        "name": "ipython",
        "version": 3
      },
      "file_extension": ".py",
      "mimetype": "text/x-python",
      "name": "python",
      "nbconvert_exporter": "python",
      "pygments_lexer": "ipython3",
      "version": "3.7.3"
    },
    "colab": {
      "name": "Simulacion MC de precios I.ipynb",
      "provenance": []
    }
  },
  "nbformat": 4,
  "nbformat_minor": 0
}