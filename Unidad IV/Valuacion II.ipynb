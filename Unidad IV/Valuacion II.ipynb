{
  "cells": [
    {
      "cell_type": "markdown",
      "metadata": {
        "id": "GL1OEfQ9x_Fl"
      },
      "source": [
        "# <font color='blue'> Movimiento browniano "
      ]
    },
    {
      "cell_type": "markdown",
      "metadata": {
        "id": "zn9YkBOxx_F9"
      },
      "source": [
        "La colección de variables aleatorias $X(t), t \\geq 0$ es un **movimiento browniano** de parámetros $\\mu$ y $\\sigma^2$ si satisface:  \n",
        "\n",
        "* $X(0)$ es una constante dada.\n",
        "\n",
        "* Para todo $y$ y $t$ positivos, la variable aleatoria $X(t+y)-X(y)$ es independiente de los valores del proceso hasta el  tiempo $y$ y tiene una distribución normal con media $μt$ y varianza $t \\sigma^2$ "
      ]
    },
    {
      "cell_type": "markdown",
      "metadata": {
        "id": "Lu8SXTqbx_GB"
      },
      "source": [
        "Comentarios.\n",
        "\n",
        "* El proceso queda determinado solo por el valor presente y ninguno del pasado el que determina los valores futuros.\n",
        "* $X(t)$ es, con probabilidad 1, una función continua de $t$.\n",
        "* Pero no es diferenciable.\n",
        "* EL movimiento browniano es el límite de modelos más simples, como las caminatas aleatorias (del modelo binomial)."
      ]
    },
    {
      "cell_type": "markdown",
      "metadata": {
        "id": "fqHGmT1tx_GE"
      },
      "source": [
        "### <font color='blue'> Movimiento Browniano Geometrico"
      ]
    },
    {
      "cell_type": "markdown",
      "metadata": {
        "id": "f8G7hk3fx_GG"
      },
      "source": [
        "Sea  $X(t), t \\geq 0$ un movimiento browniano de parámetros $\\mu$ y $\\sigma^2$, y sea:\n",
        "    \n",
        "$$S(t)=e^{X(t)}, t \\geq 0$$\n",
        "\n",
        "El proceso $S(t), t \\geq 0$ se dice que es un movimiento browniano geometrico con parámetros $\\mu$ y $\\sigma^2$. \n",
        "    "
      ]
    },
    {
      "cell_type": "markdown",
      "metadata": {
        "id": "Xo0TdGqux_GJ"
      },
      "source": [
        "Entonces:\n",
        "\n",
        "$$\\log \\Bigg( \\frac{S(t+y)}{S(y)} \\Bigg)$$\n",
        "\n",
        "es independiente del proceso y tiene distribución normal con media $\\mu t$ y varianza $\\sigma^2 t$."
      ]
    },
    {
      "cell_type": "markdown",
      "metadata": {
        "id": "EeU-I4Qtx_GM"
      },
      "source": [
        "#### Modelación de las acciones."
      ]
    },
    {
      "cell_type": "markdown",
      "metadata": {
        "id": "38DDMqbGx_GT"
      },
      "source": [
        "Si $P_t$ es el precio de una acción en el tiempo $t$, entonces el rendimiento logaritmizado \n",
        "es $R_t = \\log(\\frac{P_t}{P_{t-1}})$, para $t=1,2,3...$ y normalmente ocurre que:\n",
        "\n",
        "$$R_t \\sim N(\\mu, \\sigma)$$"
      ]
    },
    {
      "cell_type": "markdown",
      "metadata": {
        "id": "asmDwAcDx_GY"
      },
      "source": [
        "El uso del rendimiento logaritmizado se justifica como una buena aproximación:\n",
        "\n",
        "$$R_t \\approx \\frac{P_t - P_{t-1}}{P_{t-1}}$$ \n",
        "\n",
        "debido a que el orden de los rendimientos es de $10^{-3}$ y se hace uso de $\\log (1 + x) \\approx x$."
      ]
    },
    {
      "cell_type": "markdown",
      "metadata": {
        "id": "9mWxT21lx_Gc"
      },
      "source": [
        "Ahora, si se reescribe la cantidad $\\frac{P_t}{P_0}$ como:\n",
        "\n",
        "$$\\frac{P_t}{P_0} = \\frac{P_t}{P_{t-1}} \\cdot \\frac{P_{t-1}}{P_{t-2}} \\cdot \\frac{P_{t-2}}{P_{t-3}} \\cdot ... \\cdot \\frac{P_2}{P_1} \\cdot \\frac{P_1}{P_0} $$"
      ]
    },
    {
      "cell_type": "markdown",
      "metadata": {
        "id": "PLvClOUfx_Ge"
      },
      "source": [
        "Al tomar el logaritmo:\n",
        "\n",
        "$$\\log( \\frac{P_t}{P_0}) = R_t + R_{t-1} + ... + R_2 + R_1$$"
      ]
    },
    {
      "cell_type": "markdown",
      "metadata": {
        "id": "gH8YXg1jx_Gg"
      },
      "source": [
        "Si suponemos que los rendimientos $R_i$ son independientes y tienen una misma distribución, \n",
        "con $E[R_i]= \\mu$ y $V[R_i]=\\sigma^2$, entonces para $t$ grande, por el teorema central del límite esto \n",
        "sigue una distribución normal (para más de 30 días) y se tendrá:"
      ]
    },
    {
      "cell_type": "markdown",
      "metadata": {
        "id": "U84B0e85x_Gi"
      },
      "source": [
        "$$E \\Bigg[\\log \\frac{P_t}{P_o} \\Bigg]= E[R_t]+E[R_{t-1}]+...+E[R_1]= t\\mu$$\n",
        "\n",
        "\n",
        "$$V \\Bigg[\\log \\frac{P_t}{P_o} \\Bigg]= V[R_t]+V[R_{t-1}]+...+V[R_1]= t\\sigma^2$$"
      ]
    },
    {
      "cell_type": "markdown",
      "metadata": {
        "id": "1FXsyNG4x_Gl"
      },
      "source": [
        "Y se tendría que:\n",
        "\n",
        "$$\\log \\Bigg( \\frac{P_t}{P_0} \\Bigg) \\sim N(\\mu t, \\sigma \\sqrt t)$$"
      ]
    },
    {
      "cell_type": "markdown",
      "metadata": {
        "id": "0sSjSvaUx_Gn"
      },
      "source": [
        "Por lo que se puede escribir:\n",
        "\n",
        "$$P_t=P_0 e^{\\mu t +\\sigma \\beta_t}$$"
      ]
    },
    {
      "cell_type": "markdown",
      "metadata": {
        "id": "pZ25Fm18x_Go"
      },
      "source": [
        "donde $\\beta_t$ es un movimiento browniano en $(0,t)$ y $E[\\beta_t]=0$ y $V[\\beta_t]=t$"
      ]
    },
    {
      "cell_type": "markdown",
      "metadata": {
        "id": "GGBAlEs0x_Gq"
      },
      "source": [
        "Y la igualdad anterior también se puede escribir como:\n",
        "\n",
        "$$P_t=P_0 e^{\\mu t + \\sigma \\sqrt t z}$$\n",
        "\n",
        "donde $z \\sim N(0,1)$."
      ]
    },
    {
      "cell_type": "markdown",
      "metadata": {
        "id": "e7smABgWx_Gr"
      },
      "source": [
        "Esta última ecuación nos permite ya construir una simulación."
      ]
    },
    {
      "cell_type": "code",
      "execution_count": 1,
      "metadata": {
        "id": "cUn3QXLCx_Gt"
      },
      "outputs": [],
      "source": [
        "from random import gauss\n",
        "from math import exp\n",
        "import matplotlib.pyplot as plt"
      ]
    },
    {
      "cell_type": "code",
      "execution_count": 2,
      "metadata": {
        "id": "DXPdGZQKx_Gz"
      },
      "outputs": [],
      "source": [
        "mu=0.001 \n",
        "sigma=0.04  \n",
        "p0=10\n",
        "t=30"
      ]
    },
    {
      "cell_type": "code",
      "execution_count": null,
      "metadata": {
        "id": "889sePrsx_G1"
      },
      "outputs": [],
      "source": [
        "def trayectoria(mu,sigma,p0,t):\n",
        "    l=[p0]\n",
        "    pt=p0\n",
        "    for i in range(t):\n",
        "        pt=pt*exp(mu + sigma*gauss(0,1))\n",
        "        l.append(pt)\n",
        "    return l"
      ]
    },
    {
      "cell_type": "code",
      "execution_count": null,
      "metadata": {
        "id": "D9KECLLUx_G2"
      },
      "outputs": [],
      "source": [
        "l=trayectoria(mu, sigma,p0,t)"
      ]
    },
    {
      "cell_type": "code",
      "execution_count": null,
      "metadata": {
        "id": "DknDC0Mnx_G3"
      },
      "outputs": [],
      "source": [
        "print(l)"
      ]
    },
    {
      "cell_type": "code",
      "execution_count": null,
      "metadata": {
        "id": "tsZfejGJx_G5"
      },
      "outputs": [],
      "source": [
        "\n",
        "plt.plot(l)\n",
        "plt.show()"
      ]
    },
    {
      "cell_type": "code",
      "execution_count": null,
      "metadata": {
        "id": "EUyfSZzHx_G6"
      },
      "outputs": [],
      "source": [
        "mu=0.001\n",
        "sigma=0.04\n",
        "p0=10\n",
        "t=200"
      ]
    },
    {
      "cell_type": "code",
      "execution_count": null,
      "metadata": {
        "id": "ePDjISjvx_G8"
      },
      "outputs": [],
      "source": [
        "for i in range(10):\n",
        "    l=trayectoria(mu,sigma,p0,t)\n",
        "    plt.plot(l)\n",
        "plt.show()"
      ]
    },
    {
      "cell_type": "markdown",
      "metadata": {
        "id": "cofVfLGjx_G9"
      },
      "source": [
        "#### Ejercicio \n",
        "\n",
        "Estudiar el comportamiento de las trayectorias al variar $\\mu$ y $\\sigma$."
      ]
    },
    {
      "cell_type": "markdown",
      "metadata": {
        "id": "WKMk3J72x_G-"
      },
      "source": [
        "Entonces, sabiendo que $P_t=P_0 e^{\\mu t +\\sigma \\beta_t}=P_t=P_0 e^{\\mu t + \\sigma \\sqrt t z}$, \n",
        "¿cuál es el valor esperado de $P_t$?\n",
        "\n",
        "Tendríamos:"
      ]
    },
    {
      "cell_type": "markdown",
      "metadata": {
        "id": "HDqes-xpx_G_"
      },
      "source": [
        "$$E[P_t]=E[P_0 e^{\\mu t + \\sigma \\sqrt t z}] = P_0 E[e^{\\mu t + \\sigma \\sqrt t z}]$$"
      ]
    },
    {
      "cell_type": "markdown",
      "metadata": {
        "id": "jvsvNJVAx_HA"
      },
      "source": [
        "Y para poder evaluar esto, necesitamos utilizar la función generadora de momentos:\n",
        "    \n",
        "$$\\mu_x(s)=e^{\\mu s + \\frac{\\sigma^2 s^2}{2}}$$"
      ]
    },
    {
      "cell_type": "markdown",
      "metadata": {
        "id": "YVYUSL7dx_HB"
      },
      "source": [
        "De manera que:\n",
        "    \n",
        "$$E[P_t]=P_0 e^{(\\mu + \\frac{\\sigma}{2})t}$$"
      ]
    },
    {
      "cell_type": "markdown",
      "metadata": {
        "id": "6bqiTd1ix_HC"
      },
      "source": [
        "Y la varianza:\n",
        "    \n",
        "$$V[P_t]=P_0^2e^{2\\mu t}(e^{2t\\sigma^2}-e^{t\\sigma^2})$$"
      ]
    },
    {
      "cell_type": "markdown",
      "metadata": {
        "id": "UeO8t-D6x_HE"
      },
      "source": [
        "Pero la cuestión práctica es: ¿Dados los precios de una acción, $P_0, P_1,...,P_t$, ¿cómo estimar $\\mu$ y $\\sigma$?"
      ]
    },
    {
      "cell_type": "markdown",
      "metadata": {
        "id": "GHxvbWbKx_HF"
      },
      "source": [
        "Recordando que:\n",
        "\n",
        "$$R_t \\sim N(\\mu, \\sigma)$$\n",
        "\n",
        "y\n",
        "\n",
        "$$\\hat{\\mu} = \\frac{\\sum_{t=1}^{T}R_t}{T}$$\n",
        "\n",
        "y\n",
        "\n",
        "$$\\hat{\\sigma}=\\sqrt{\\frac{1}{T-1} \\sum_{t=1}^T (R_t - \\hat{\\mu})^2}$$"
      ]
    },
    {
      "cell_type": "markdown",
      "metadata": {
        "id": "q765Y71Xx_HG"
      },
      "source": [
        "En la práctica, dados:\n",
        "$$P_0, P_1, P_2, P_3, ...$$\n",
        "\n",
        "Calculamos:\n",
        "    \n",
        "$$R_1=\\log(\\frac{P_1}{P_0})$$\n",
        "\n",
        "$$R_1=\\log(\\frac{P_2}{P_1})$$\n",
        "\n",
        "$$R_1=\\log(\\frac{P_3}{P_2})$$\n",
        "\n",
        "$$R_1=\\log(\\frac{P_4}{P_3})$$\n",
        "\n",
        "$$...$$"
      ]
    },
    {
      "cell_type": "markdown",
      "metadata": {
        "id": "IjlzRm6Mx_HH"
      },
      "source": [
        "Y calculamos la media y la desviación estándar de estos valores, y podemos observar que:\n",
        "\n",
        "* Si $\\hat{\\mu} + \\frac{\\hat{\\sigma}}{2} > 0$, la acción tiende a crecer.\n",
        "\n",
        "* Si $\\hat{\\mu} + \\frac{\\hat{\\sigma}}{2} \\approx 0$, la acción tiende a permanecer constante.\n",
        "\n",
        "* Si $\\hat{\\mu} + \\frac{\\hat{\\sigma}}{2} < 0$, la acción tiende a decrecer."
      ]
    },
    {
      "cell_type": "markdown",
      "metadata": {
        "id": "hK1I5xjkx_HL"
      },
      "source": [
        "Y podemos implementar esto con el siguiente código, usando la librería investpy."
      ]
    },
    {
      "cell_type": "code",
      "execution_count": null,
      "metadata": {
        "id": "dcxjKn6ax_HM"
      },
      "outputs": [],
      "source": [
        "from statistics import mean,stdev,pstdev\n",
        "from math import log\n",
        "import pandas_datareader as pdr\n",
        "import datetime\n",
        "import pandas as pd\n",
        "import matplotlib.pyplot as plt\n",
        "import investpy"
      ]
    },
    {
      "cell_type": "markdown",
      "metadata": {
        "id": "a11cYRhCx_HN"
      },
      "source": [
        "Pero antes, recordemos un poco de Pandas"
      ]
    },
    {
      "cell_type": "markdown",
      "metadata": {
        "id": "Mg1ZpFgNx_HO"
      },
      "source": [
        "Cargamos los datos y los guardamos."
      ]
    },
    {
      "cell_type": "code",
      "execution_count": null,
      "metadata": {
        "id": "V7LkUC9tx_HP"
      },
      "outputs": [],
      "source": [
        "df=investpy.get_stock_historical_data(stock=\"DIS\",country=\"Mexico\",from_date=\"01/01/2022\", to_date=\"31/05/2022\")\n",
        "\n",
        "df.to_csv(\"datos.csv\")"
      ]
    },
    {
      "cell_type": "markdown",
      "metadata": {
        "id": "g9R-KlQ-x_HQ"
      },
      "source": [
        "Podemos usar las funciones de Pandas para analizar los datos."
      ]
    },
    {
      "cell_type": "code",
      "execution_count": null,
      "metadata": {
        "id": "tOuxedBtx_HR"
      },
      "outputs": [],
      "source": [
        "type(df) # Checamos el tipo de dato"
      ]
    },
    {
      "cell_type": "code",
      "execution_count": null,
      "metadata": {
        "id": "ZAEO55nxx_HS"
      },
      "outputs": [],
      "source": [
        "df.shape # Este es un atributo, no una función. Devuelve (número de renglones, número de columnas)"
      ]
    },
    {
      "cell_type": "code",
      "execution_count": null,
      "metadata": {
        "id": "_8viLes8x_HT"
      },
      "outputs": [],
      "source": [
        "df"
      ]
    },
    {
      "cell_type": "code",
      "execution_count": null,
      "metadata": {
        "id": "IsC-oqaSx_HU"
      },
      "outputs": [],
      "source": [
        "print(df.head()) # La función head() muestra los primeros 5 renglones del data frame"
      ]
    },
    {
      "cell_type": "markdown",
      "metadata": {
        "id": "lYolQXeGx_HV"
      },
      "source": [
        "Generalmente, comenzamos a analizar un data frame conociendo su tamaño y la información que contiene."
      ]
    },
    {
      "cell_type": "code",
      "execution_count": null,
      "metadata": {
        "id": "EBSJoofnx_HW"
      },
      "outputs": [],
      "source": [
        "df.columns # Da el nombre de las columnas"
      ]
    },
    {
      "cell_type": "markdown",
      "metadata": {
        "id": "OifTzefOx_HX"
      },
      "source": [
        "Cada columna debe ser del mismo tipo, pero un renglón puede tener objetos de diferentes tipos."
      ]
    },
    {
      "cell_type": "code",
      "execution_count": null,
      "metadata": {
        "id": "f28Vgzj1x_HY"
      },
      "outputs": [],
      "source": [
        "df.dtypes # Da el tipo de objeto que guardan las columnas"
      ]
    },
    {
      "cell_type": "code",
      "execution_count": null,
      "metadata": {
        "id": "BsaX0voix_Ha"
      },
      "outputs": [],
      "source": [
        "df.info() # Esta función da información más amplia"
      ]
    },
    {
      "cell_type": "markdown",
      "metadata": {
        "id": "IaaS1jl4x_Hd"
      },
      "source": [
        "Podemos elegir columnas en particular para visualizar."
      ]
    },
    {
      "cell_type": "code",
      "execution_count": null,
      "metadata": {
        "id": "fQ4Q9lBjx_He"
      },
      "outputs": [],
      "source": [
        "c_df=df['Close'] # Elejimos la columna y la guardamos como una nueva variable"
      ]
    },
    {
      "cell_type": "code",
      "execution_count": null,
      "metadata": {
        "id": "BPj_l3Sux_Hf"
      },
      "outputs": [],
      "source": [
        "c_df.head() # mostramos los primeros 5 renglones"
      ]
    },
    {
      "cell_type": "code",
      "execution_count": null,
      "metadata": {
        "id": "qQrDYVYYx_Hg"
      },
      "outputs": [],
      "source": [
        "c_df.tail() # mostramos los últimos 5 renglones"
      ]
    },
    {
      "cell_type": "code",
      "execution_count": null,
      "metadata": {
        "id": "oqp0rpT7x_Hj"
      },
      "outputs": [],
      "source": [
        "o_df=df.Open # También podemos elegir la columna nombrandola directamente"
      ]
    },
    {
      "cell_type": "code",
      "execution_count": null,
      "metadata": {
        "id": "arvoDWUcx_Hl"
      },
      "outputs": [],
      "source": [
        "o_df.head()"
      ]
    },
    {
      "cell_type": "code",
      "execution_count": null,
      "metadata": {
        "id": "Xq_otHmqx_H3"
      },
      "outputs": [],
      "source": [
        "subset=df[['Open','Close']] # Para especificar varias columnas usamos corchetes dobles"
      ]
    },
    {
      "cell_type": "code",
      "execution_count": null,
      "metadata": {
        "id": "PrZHdYw5x_H4"
      },
      "outputs": [],
      "source": [
        "subset.head()"
      ]
    },
    {
      "cell_type": "code",
      "execution_count": null,
      "metadata": {
        "id": "B3D_i0mkx_H6"
      },
      "outputs": [],
      "source": [
        "subset.head(n=10) # podemos ver más renglones"
      ]
    },
    {
      "cell_type": "code",
      "execution_count": null,
      "metadata": {
        "id": "8pBkF509x_H9"
      },
      "outputs": [],
      "source": [
        "subset.tail()"
      ]
    },
    {
      "cell_type": "code",
      "execution_count": null,
      "metadata": {
        "id": "9R8sJKm0x_H-"
      },
      "outputs": [],
      "source": [
        "subset # se puede imprimir todo"
      ]
    },
    {
      "cell_type": "code",
      "execution_count": null,
      "metadata": {
        "id": "X1nN5ALxx_H_"
      },
      "outputs": [],
      "source": [
        "subset.ix[0] # revisar: iloc, loe"
      ]
    },
    {
      "cell_type": "code",
      "execution_count": null,
      "metadata": {
        "id": "1iGljw70x_IA"
      },
      "outputs": [],
      "source": [
        "df[50:55]['Close']"
      ]
    },
    {
      "cell_type": "markdown",
      "metadata": {
        "id": "OYHl5z1Bx_IB"
      },
      "source": [
        "Podemos graficar los precios y calcular las estadisticas de los rendimientos logaritmizados"
      ]
    },
    {
      "cell_type": "code",
      "execution_count": null,
      "metadata": {
        "id": "HDVebTVyx_IC"
      },
      "outputs": [],
      "source": [
        "datos=investpy.get_stock_historical_data(stock=\"DIS\",country=\"Mexico\",from_date=\"24/05/2021\", to_date=\"24/05/2022\")\n",
        "\n",
        "datos.to_csv(\"datos.csv\")\n",
        "\n",
        "\n",
        "datos=pd.read_csv(\"datos.csv\",header=0,index_col=\"Date\",parse_dates=True) #le peidmos leer los datos del csv \n",
        "\n",
        "\n",
        "ts=datos[\"Close\"] #que tome los valores de precio de cierre de la acci+on \n",
        "print(ts)\n",
        "\n",
        "lp=[] #creamos una lista vacia para los precios \n",
        "\n",
        "for i in range(len(ts)):\n",
        "     lp.append(ts.iloc[i])\n",
        "plt.plot(lp) #grafica de los precios\n",
        "plt.show()\n",
        "\n",
        "#calcular los rendimientos\n",
        "\n",
        "lr=[] #lista de rendimientos\n",
        "for i in range(1,len(lp)):\n",
        "     lr.append((lp[i-1]/lp[i])-1) #para lso rendimientos usamos la formula de el precio de cierre anterior entre el precio de cierre actual menos 1\n",
        "\n",
        "print(f\"\\n El rendimiento medio es: {mean(lr)},\\n La desviación muestral es: {stdev(lr)} \\n La desviación poblacional es: {pstdev(lr)}\")\n",
        "\n",
        "\n"
      ]
    },
    {
      "cell_type": "markdown",
      "metadata": {
        "id": "GGyRgoCjx_ID"
      },
      "source": [
        "Y podemos visualizar el rendimiento"
      ]
    },
    {
      "cell_type": "code",
      "execution_count": null,
      "metadata": {
        "id": "jnOnfo6Px_IE"
      },
      "outputs": [],
      "source": [
        "lr=[]\n",
        "for i in range(1,len(lp)):\n",
        "    lr.append(log(lp[i]/lp[i-1]))\n",
        "plt.plot(lr)\n",
        "plt.show()\n",
        "print(mean(lr), stdev(lr))"
      ]
    },
    {
      "cell_type": "markdown",
      "metadata": {
        "id": "airBr5Qjx_IE"
      },
      "source": [
        "Y graficarlos juntos, mostrará las fluctuaciones en los mismos puntos"
      ]
    },
    {
      "cell_type": "code",
      "execution_count": null,
      "metadata": {
        "id": "s6Hnnevvx_IF"
      },
      "outputs": [],
      "source": [
        "fig, ax=plt.subplots(2,1,figsize=(16,8), sharex=True)\n",
        "ax[0].plot(lp)\n",
        "ax[1].plot(lr)"
      ]
    },
    {
      "cell_type": "code",
      "execution_count": null,
      "metadata": {
        "id": "L3Y5OGNWx_IG"
      },
      "outputs": [],
      "source": [
        ""
      ]
    },
    {
      "cell_type": "markdown",
      "metadata": {
        "id": "yEB9l0cZx_IH"
      },
      "source": [
        "#### Opciones"
      ]
    },
    {
      "cell_type": "markdown",
      "metadata": {
        "id": "JYrigxKzx_IH"
      },
      "source": [
        "Entonces, Tenemos que $P_t=P_0 e^{\\mu t +\\sigma \\beta_t}$"
      ]
    },
    {
      "cell_type": "markdown",
      "metadata": {
        "id": "Fe7Xo4Zox_II"
      },
      "source": [
        "De manera que:\n",
        "    \n",
        "$$E[P_t]=P_0 e^{(\\mu + \\frac{\\sigma}{2})t}$$"
      ]
    },
    {
      "cell_type": "markdown",
      "metadata": {
        "id": "tXuBGwESx_IJ"
      },
      "source": [
        "Podemos reescribir el precio como:\n",
        "    \n",
        "$$P_t=P_0 e^{(\\mu - \\frac{\\sigma}{2})t + \\sigma \\beta_t}$$"
      ]
    },
    {
      "cell_type": "markdown",
      "metadata": {
        "id": "RNptGZRgx_IK"
      },
      "source": [
        "O más convenientemente como:\n",
        "\n",
        "<font color='blue'>$$P_t=P_0 e^{(\\mu - \\frac{\\sigma}{2})t + \\sigma \\sqrt{t} z}$$\n",
        "    \n",
        "con $z \\sim N(0, 1)$"
      ]
    },
    {
      "cell_type": "markdown",
      "metadata": {
        "id": "x9XnKsVmx_IL"
      },
      "source": [
        "Ahora con:\n",
        "    \n",
        "$$E[P_t]=P_0 e^{\\mu t}$$"
      ]
    },
    {
      "cell_type": "markdown",
      "metadata": {
        "id": "vYq3WBhvx_IO"
      },
      "source": [
        "Para el caso de una opción europea (contrato a tiempo fijo), con precio de ejercicio k, al tiempo t. \n",
        "Se tienen las alternativas:\n",
        "    \n",
        "* Si $p>k$ se compra\n",
        "* Si $p \\leq k$ no se compra"
      ]
    },
    {
      "cell_type": "markdown",
      "metadata": {
        "id": "EB67Tgvox_IP"
      },
      "source": [
        "El valor esperado de la ganancia es:\n",
        "\n",
        "$$E[(P_t - k)^t]$$"
      ]
    },
    {
      "cell_type": "markdown",
      "metadata": {
        "id": "H6qF-IXHx_IQ"
      },
      "source": [
        "Y aquí va un desarrollo matemático..."
      ]
    },
    {
      "cell_type": "code",
      "execution_count": null,
      "metadata": {
        "id": "LM8ksh_Ix_IR"
      },
      "outputs": [],
      "source": [
        ""
      ]
    },
    {
      "cell_type": "code",
      "execution_count": 3,
      "metadata": {
        "id": "WPB-OCllx_IR"
      },
      "outputs": [],
      "source": [
        "from random import gauss\n",
        "from math import exp, sqrt"
      ]
    },
    {
      "cell_type": "code",
      "execution_count": 4,
      "metadata": {
        "id": "n9-DHqTPx_IS"
      },
      "outputs": [],
      "source": [
        "def f(p0, t0, t, mu, sigma):\n",
        "    h=(mu - (sigma**2)/2)*(t-t0) + sigma*sqrt(t-t0)*gauss(0,1)\n",
        "#    h=(mu - (sigma**2)/2)*(t-t0) + sigma*gauss(0, sqrt(t-t0))\n",
        "    p=p0*exp(h)\n",
        "    return p"
      ]
    },
    {
      "cell_type": "code",
      "execution_count": 5,
      "metadata": {
        "id": "9IArL2pUx_IW",
        "outputId": "692bc2b4-b492-4eb4-b708-227d59943537",
        "colab": {
          "base_uri": "https://localhost:8080/"
        }
      },
      "outputs": [
        {
          "output_type": "stream",
          "name": "stdout",
          "text": [
            "17.335640885725766\n"
          ]
        }
      ],
      "source": [
        "n = 1000000\n",
        "mu = 0.004\n",
        "sigma = 0.03\n",
        "p0 = 10\n",
        "suma = 0\n",
        "\n",
        "for i in range(n):\n",
        "    p30 = f(p0, 0, 30, mu, sigma)\n",
        "    p70 = f(p30, 30, 70, mu, sigma)\n",
        "    suma = suma + 100*(p70 - p30)/p30\n",
        "print(suma/n)"
      ]
    },
    {
      "cell_type": "code",
      "execution_count": null,
      "metadata": {
        "id": "0iGccPAwx_IX"
      },
      "outputs": [],
      "source": [
        ""
      ]
    }
  ],
  "metadata": {
    "kernelspec": {
      "display_name": "Python 3",
      "language": "python",
      "name": "python3"
    },
    "language_info": {
      "codemirror_mode": {
        "name": "ipython",
        "version": 3
      },
      "file_extension": ".py",
      "mimetype": "text/x-python",
      "name": "python",
      "nbconvert_exporter": "python",
      "pygments_lexer": "ipython3",
      "version": "3.7.3"
    },
    "colab": {
      "name": "Valuacion de opciones II.ipynb",
      "provenance": []
    }
  },
  "nbformat": 4,
  "nbformat_minor": 0
}